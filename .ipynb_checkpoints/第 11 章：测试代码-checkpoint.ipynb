{
 "cells": [
  {
   "cell_type": "markdown",
   "metadata": {},
   "source": [
    "# 第 11 章：测试代码"
   ]
  },
  {
   "cell_type": "markdown",
   "metadata": {},
   "source": [
    "通过测试，可确定代码面对各种输入都能够按要求的那样工作。在程序中添加新代码时，你也可以对其进行测试，确认它们不会破坏程序既有的行为。"
   ]
  },
  {
   "cell_type": "markdown",
   "metadata": {},
   "source": [
    "## 11.1 测试函数"
   ]
  },
  {
   "cell_type": "code",
   "execution_count": 1,
   "metadata": {
    "ExecuteTime": {
     "end_time": "2020-07-07T12:53:51.193532Z",
     "start_time": "2020-07-07T12:53:51.189550Z"
    }
   },
   "outputs": [],
   "source": [
    "def get_formatted_name(first, last):\n",
    "    \"\"\"Generate a neatly formatted full name.\"\"\"\n",
    "    full_name = first + ' ' + last\n",
    "    return full_name.title()"
   ]
  },
  {
   "cell_type": "code",
   "execution_count": null,
   "metadata": {
    "deletable": false,
    "editable": false,
    "run_control": {
     "frozen": true
    }
   },
   "outputs": [],
   "source": [
    "from name_function import get_formatted_name\n",
    "\n",
    "print(\"Enter 'q' at any time to quit: \")\n",
    "while True:\n",
    "    first = input(\"\\nPlease give me a first name: \")\n",
    "    if first == 'q':\n",
    "        break\n",
    "    last = input(\"\\nPlease give me a last name: \")\n",
    "    if last == 'q':\n",
    "        break\n",
    "    formatted_name = get_formatted_name(first, last)\n",
    "    print(\"\\nNeatly formatted name: \" + formatted_name + '.')"
   ]
  },
  {
   "cell_type": "markdown",
   "metadata": {},
   "source": [
    "### 11.1.1 单元测试和测试用例"
   ]
  },
  {
   "cell_type": "markdown",
   "metadata": {},
   "source": [
    "Python 标准库模块 `unittest` 提供了代码测试工具。  \n",
    "**单元测试**用于核实函数的某个方面没有问题；  \n",
    "**测试用例**是一组单元测试，这些单元测试一起核实函数在各种情形下的行为都符合要求。良好的测试用例考虑到了函数可能收到的各种输入，包含针对所有这些情形的测试。  \n",
    "**全覆盖式测试**用例包含一整套单元测试，涵盖了各种可能的函数使用方式。  \n",
    "对于大型项目，要实现全服覆盖可能很难。通常，最初只要针对代码的重要行为编写测试即可，等项目被广泛使用时再考虑全覆盖。"
   ]
  },
  {
   "cell_type": "markdown",
   "metadata": {},
   "source": [
    "### 11.1.2 可通过的测试"
   ]
  },
  {
   "cell_type": "markdown",
   "metadata": {},
   "source": [
    "要为函数编写测试用例，可先导入模块 `unittest` 以及要测试的函数，再创建一个继承 `unitest.TestCase` 的类，并编写一系列方法对函数行为的不同方面进行测试。"
   ]
  },
  {
   "cell_type": "code",
   "execution_count": null,
   "metadata": {
    "deletable": false,
    "editable": false,
    "run_control": {
     "frozen": true
    }
   },
   "outputs": [],
   "source": [
    "\"\"\"Unit test of function get_formatted_name\"\"\"\n",
    "\n",
    "import unittest\n",
    "\n",
    "from name_function import get_formatted_name\n",
    "\n",
    "\n",
    "# 测试用例\n",
    "class NamesTestCase(unittest.TestCase):  # 函数可随便命名，最好让它看起来与要测试的函数相关，并包含 Test 字样\n",
    "    \"\"\"测试 name_function.py\"\"\"          # 这个类必须继承 unittest.TestCase 类，这样 Python 才能知道如何运行程序\n",
    "    \n",
    "    # 单元测试\n",
    "    def test_first_last_name(self):  # 所有以 test_ 打头的方法都将自动运行\n",
    "        \"\"\"能够正确地处理像 Janis Joplin 这样的姓名吗？\"\"\"\n",
    "        formatted_name = get_formatted_name('janis', 'joplin')\n",
    "        self.assertEqual(formatted_name, 'Janis Joplin')  # 断言方法：用来核实得到的结果是否与期望的结果一致\n",
    "\n",
    "\n",
    "if __name__ == \"__main__\":\n",
    "    unittest.main()"
   ]
  },
  {
   "cell_type": "code",
   "execution_count": null,
   "metadata": {
    "deletable": false,
    "editable": false,
    "run_control": {
     "frozen": true
    }
   },
   "outputs": [],
   "source": [
    "Testing started at 21:01 ...\n",
    "D:\\Anaconda\\install\\python.exe \"D:\\PyCharm\\PyCharm 2020.1.2\\plugins\\python\\helpers\\pycharm\\_jb_unittest_runner.py\" --path D:/MyFiles/MyJupyterNotebook/2020GapYearStudy/Python编程：从入门到实践/Ch11_code/test_name_function.py\n",
    "Launching unittests with arguments python -m unittest D:/MyFiles/MyJupyterNotebook/2020GapYearStudy/Python编程：从入门到实践/Ch11_code/test_name_function.py in D:\\MyFiles\\MyJupyterNotebook\\2020GapYearStudy\\Python编程：从入门到实践\\Ch11_code\n",
    "\n",
    "\n",
    "\n",
    "Ran 1 test in 0.004s\n",
    "\n",
    "OK\n",
    "\n",
    "Process finished with exit code 0"
   ]
  },
  {
   "cell_type": "markdown",
   "metadata": {},
   "source": [
    "最后的 OK 表明所有单元测试都通过了。"
   ]
  },
  {
   "cell_type": "markdown",
   "metadata": {},
   "source": [
    "### 11.1.3 不能通过的测试"
   ]
  },
  {
   "cell_type": "code",
   "execution_count": null,
   "metadata": {
    "deletable": false,
    "editable": false,
    "run_control": {
     "frozen": true
    }
   },
   "outputs": [],
   "source": [
    "\"\"\"Test function\"\"\"\n",
    "\n",
    "\n",
    "def get_formatted_name(first, middle, last):\n",
    "    \"\"\"Generate a neatly formatted full name.\"\"\"\n",
    "    full_name = first + ' ' + middle + ' ' + last\n",
    "    return full_name.title()"
   ]
  },
  {
   "cell_type": "code",
   "execution_count": null,
   "metadata": {
    "deletable": false,
    "editable": false,
    "run_control": {
     "frozen": true
    }
   },
   "outputs": [],
   "source": [
    "Ran 1 test in 5.698s\n",
    "\n",
    "FAILED (errors=1)\n",
    "\n",
    "Error\n",
    "Traceback (most recent call last):\n",
    "  File \"D:\\Anaconda\\install\\lib\\unittest\\case.py\", line 60, in testPartExecutor\n",
    "    yield\n",
    "  File \"D:\\Anaconda\\install\\lib\\unittest\\case.py\", line 676, in run\n",
    "    self._callTestMethod(testMethod)\n",
    "  File \"D:\\Anaconda\\install\\lib\\unittest\\case.py\", line 633, in _callTestMethod\n",
    "    method()\n",
    "  File \"D:\\MyFiles\\MyJupyterNotebook\\2020GapYearStudy\\Python编程：从入门到实践\\Ch11_code\\test_name_function.py\", line 13, in test_first_last_name\n",
    "    formatted_name = get_formatted_name('janis', 'joplin')\n",
    "TypeError: get_formatted_name() missing 1 required positional argument: 'last'"
   ]
  },
  {
   "cell_type": "markdown",
   "metadata": {},
   "source": [
    "E 指出测试用例中有一个单元测试导致了错误。测试用例包含众多单元测试时，知道哪个测试未通过至关重要。  \n",
    "FAILED (error=1) 指出整个测试用例都未通过。"
   ]
  },
  {
   "cell_type": "markdown",
   "metadata": {},
   "source": [
    "### 11.1.4 测试未通过时怎么办"
   ]
  },
  {
   "cell_type": "markdown",
   "metadata": {},
   "source": [
    "如果你检查的条件没错，测试通过了意味着函数的行为时对的，而测试未通过意味着你编写的新代码有错。因此， 测试未通过时，不要修改测试，而应修复导致俄式不能通过的代码：检查刚对函数所作的修改，找出导致函数行为不符合预期的修改。"
   ]
  },
  {
   "cell_type": "code",
   "execution_count": 13,
   "metadata": {
    "ExecuteTime": {
     "end_time": "2020-07-07T13:33:04.960144Z",
     "start_time": "2020-07-07T13:33:04.955174Z"
    }
   },
   "outputs": [],
   "source": [
    "\"\"\"Test function\"\"\"\n",
    "\n",
    "\n",
    "def get_formatted_name(first, last, middle=''):\n",
    "    \"\"\"Generate a neatly formatted full name.\"\"\"\n",
    "    if middle:\n",
    "        full_name = first + ' ' + middle + ' ' + last\n",
    "    else:\n",
    "        full_name = first + ' ' + last\n",
    "    return full_name.title()"
   ]
  },
  {
   "cell_type": "markdown",
   "metadata": {},
   "source": [
    "### 11.1.5 添加新测试"
   ]
  },
  {
   "cell_type": "code",
   "execution_count": null,
   "metadata": {
    "deletable": false,
    "editable": false,
    "run_control": {
     "frozen": true
    }
   },
   "outputs": [],
   "source": [
    "\"\"\"Unit test of function get_formatted_name\"\"\"\n",
    "\n",
    "import unittest\n",
    "\n",
    "from name_function import get_formatted_name\n",
    "\n",
    "\n",
    "class NamesTestCase(unittest.TestCase):\n",
    "    \"\"\"测试 name_function.py\"\"\"\n",
    "\n",
    "    def test_first_last_name(self):\n",
    "        \"\"\"能够正确地处理像 Janis Joplin 这样的姓名吗？\"\"\"\n",
    "        formatted_name = get_formatted_name('janis', 'joplin')\n",
    "        self.assertEqual(formatted_name, 'Janis Joplin')\n",
    "\n",
    "    def test_first_last_middle_name(self):\n",
    "        \"\"\"能够正确地处理像 Wolfgang Amadeus Mozart 这样的姓名吗？\"\"\"\n",
    "        formatted_name = get_formatted_name('wolfgang', 'mozart', 'amadeus')\n",
    "        self.assertEqual(formatted_name, 'Wolfgang Amadeus Mozart')\n",
    "\n",
    "\n",
    "if __name__ == \"__main__\":\n",
    "    unittest.main()"
   ]
  },
  {
   "cell_type": "code",
   "execution_count": null,
   "metadata": {
    "deletable": false,
    "editable": false,
    "run_control": {
     "frozen": true
    }
   },
   "outputs": [],
   "source": [
    "Testing started at 21:36 ...\n",
    "D:\\Anaconda\\install\\python.exe \"D:\\PyCharm\\PyCharm 2020.1.2\\plugins\\python\\helpers\\pycharm\\_jb_unittest_runner.py\" --path D:/MyFiles/MyJupyterNotebook/2020GapYearStudy/Python编程：从入门到实践/Ch11_code/test_name_function.py\n",
    "\n",
    "\n",
    "Ran 2 tests in 0.002s\n",
    "\n",
    "OK\n",
    "Launching unittests with arguments python -m unittest D:/MyFiles/MyJupyterNotebook/2020GapYearStudy/Python编程：从入门到实践/Ch11_code/test_name_function.py in D:\\MyFiles\\MyJupyterNotebook\\2020GapYearStudy\\Python编程：从入门到实践\\Ch11_code\n",
    "\n",
    "\n",
    "Process finished with exit code 0"
   ]
  },
  {
   "cell_type": "markdown",
   "metadata": {},
   "source": [
    "方法名必须以 `test_` 打头，这样它才会在我们运行 `test_name_function.py` 时自动运行。  \n",
    "在 `TestCase` 类中使用很长的方法名时可以的；这些方法的名称必须时描述性的，这样才能让你明白未通过时的输出。  \n",
    "这些方法由 Python 自动调用，不用编写调用它们的代码。"
   ]
  },
  {
   "cell_type": "markdown",
   "metadata": {},
   "source": [
    "## 11.2 测试类"
   ]
  },
  {
   "cell_type": "markdown",
   "metadata": {},
   "source": [
    "如果针对类的测试通过了，你就能确信对类所作的改进没有意外地破坏其原有的行为。"
   ]
  },
  {
   "cell_type": "markdown",
   "metadata": {},
   "source": [
    "断言方法检查你认为应该满足的条件是否确实满足。如果该条件确实满足，你对程序行为的假设就得到了确认，你就可以确信其中没有错误。如果你认为应该满足的条件实际并不满足，Python 将引发异常。 \n",
    "\n",
    "方法|用途\n",
    ":----|:----\n",
    "assertEqual(a, b)|核实 a == b\n",
    "assertNotEqual(a, b)|核实 a != b\n",
    "assertTrue(x)|核实 x 为 True\n",
    "assertFalse(x)|核实 x 为 False\n",
    "assertIn(item, list)|核实 item 在 list 中\n",
    "assertNotIn(item, list)|核实 item 不在 list 中"
   ]
  },
  {
   "cell_type": "markdown",
   "metadata": {},
   "source": [
    "### 11.2.2 一个要测试的类"
   ]
  },
  {
   "cell_type": "markdown",
   "metadata": {},
   "source": [
    "类的测试与函数的测试相似——你所做的大部分工作都是测试类中方法的行为，但存在一些不同之处。"
   ]
  },
  {
   "cell_type": "code",
   "execution_count": 14,
   "metadata": {
    "ExecuteTime": {
     "end_time": "2020-07-07T14:22:43.106254Z",
     "start_time": "2020-07-07T14:22:43.098277Z"
    }
   },
   "outputs": [],
   "source": [
    "\"\"\"Class of AnonymousSurvey to collect info\"\"\"\n",
    "\n",
    "\n",
    "class AnonymousSurvey():\n",
    "    \"\"\"收集匿名调查问卷的答案\"\"\"\n",
    "\n",
    "    def __init__(self, question):\n",
    "        \"\"\"存储一个问题，并为存储答案做准备\"\"\"\n",
    "        self.question = question\n",
    "        self.responses = []\n",
    "\n",
    "    def show_question(self):\n",
    "        \"\"\"显示调查问卷\"\"\"\n",
    "        print(self.question)\n",
    "\n",
    "    def store_response(self, new_response):\n",
    "        \"\"\"存储淡粉调查答卷\"\"\"\n",
    "        self.responses.append(new_response)\n",
    "\n",
    "    def show_results(self):\n",
    "        \"\"\"显示收集到的所有答卷\"\"\"\n",
    "        print(\"Survey results: \")\n",
    "        for response in self.responses:\n",
    "            print('- ' + response)"
   ]
  },
  {
   "cell_type": "code",
   "execution_count": null,
   "metadata": {
    "deletable": false,
    "editable": false,
    "run_control": {
     "frozen": true
    }
   },
   "outputs": [],
   "source": [
    "\"\"\"An instance of class AnonymousSurvey\"\"\"\n",
    "\n",
    "from survey import AnonymousSurvey\n",
    "\n",
    "question = \"What language did you first learn to speak?\"\n",
    "my_survey = AnonymousSurvey(question)\n",
    "\n",
    "my_survey.show_question()\n",
    "print(\"Enter 'q' at any time to quit.\")\n",
    "while True:\n",
    "    response = input(\"Language: \")\n",
    "    if response == 'q':\n",
    "        break\n",
    "    else:\n",
    "        my_survey.store_response(response)\n",
    "\n",
    "print(\"\\nThank you to everyone who participated in the servey!\")\n",
    "my_survey.show_results()"
   ]
  },
  {
   "cell_type": "markdown",
   "metadata": {},
   "source": [
    "### 11.2.3 测试 AnonumousSurvey 类"
   ]
  },
  {
   "cell_type": "code",
   "execution_count": null,
   "metadata": {
    "deletable": false,
    "editable": false,
    "run_control": {
     "frozen": true
    }
   },
   "outputs": [],
   "source": [
    "\"\"\"Test class AnonymousSurvey\"\"\"\n",
    "\n",
    "import unittest\n",
    "\n",
    "from survey import AnonymousSurvey\n",
    "\n",
    "\n",
    "class TestAnonymousSurvey(unittest.TestCase):\n",
    "    \"\"\"针对 AnonymousSurvey \"\"\"\n",
    "\n",
    "    def test_store_single_response(self):\n",
    "        \"\"\"测试单个答案会被妥善地存储\"\"\"\n",
    "        question = \"What language did you first learn to speak?\"\n",
    "        my_survey = AnonymousSurvey(question)  # 创建实例\n",
    "        my_survey.store_response(\"English\")\n",
    "\n",
    "        self.assertIn(\"English\", my_survey.responses)\n",
    "\n",
    "\n",
    "if __name__ == \"__main__\":\n",
    "    unittest.main()"
   ]
  },
  {
   "cell_type": "code",
   "execution_count": null,
   "metadata": {
    "deletable": false,
    "editable": false,
    "run_control": {
     "frozen": true
    }
   },
   "outputs": [],
   "source": [
    "Testing started at 23:36 ...\n",
    "D:\\Anaconda\\install\\python.exe \"D:\\PyCharm\\PyCharm 2020.1.2\\plugins\\python\\helpers\\pycharm\\_jb_unittest_runner.py\" --path \"D:/MyFiles/MyJupyterNotebook/2020GapYearStudy/Python编程：从入门到实践/Ch11_code/test _survey.py\"\n",
    "Launching unittests with arguments python -m unittest D:/MyFiles/MyJupyterNotebook/2020GapYearStudy/Python编程：从入门到实践/Ch11_code/test _survey.py in D:\\MyFiles\\MyJupyterNotebook\\2020GapYearStudy\\Python编程：从入门到实践\\Ch11_code\n",
    "\n",
    "\n",
    "\n",
    "Ran 1 test in 0.008s\n",
    "\n",
    "OK\n",
    "\n",
    "Process finished with exit code 0"
   ]
  },
  {
   "cell_type": "markdown",
   "metadata": {},
   "source": [
    "要测试类的行为，需要创建其实例。"
   ]
  },
  {
   "cell_type": "code",
   "execution_count": null,
   "metadata": {
    "deletable": false,
    "editable": false,
    "run_control": {
     "frozen": true
    }
   },
   "outputs": [],
   "source": [
    "\"\"\"Test class AnonymousSurvey\"\"\"\n",
    "\n",
    "import unittest\n",
    "\n",
    "from survey import AnonymousSurvey\n",
    "\n",
    "\n",
    "class TestAnonymousSurvey(unittest.TestCase):\n",
    "    \"\"\"针对 AnonymousSurvey \"\"\"\n",
    "\n",
    "    def test_store_single_response(self):\n",
    "        \"\"\"测试单个答案会被妥善地存储\"\"\"\n",
    "        question = \"What language did you first learn to speak?\"\n",
    "        my_survey = AnonymousSurvey(question)\n",
    "        my_survey.store_response(\"English\")\n",
    "\n",
    "        self.assertIn(\"English\", my_survey.responses)\n",
    "\n",
    "    def test_store_three_response(self):\n",
    "        \"\"\"测试三个答案会被妥善地存储\"\"\"\n",
    "        question = \"What language did you first learn to speak?\"\n",
    "        my_survey = AnonymousSurvey(question)\n",
    "        responses = [\"English\", \"Spanish\", \"Mandarin\"]\n",
    "        for response in responses:\n",
    "            my_survey.store_response(response)\n",
    "\n",
    "        for response in responses:\n",
    "            self.assertIn(response, my_survey.responses)\n",
    "\n",
    "\n",
    "if __name__ == \"__main__\":\n",
    "    unittest.main()"
   ]
  },
  {
   "cell_type": "markdown",
   "metadata": {},
   "source": [
    "### 11.2.4 方法 `setUp()`"
   ]
  },
  {
   "cell_type": "markdown",
   "metadata": {},
   "source": [
    "如果你在 `TestCase` 类中包含1了方法 `setUp()`，Python 将先运行它，再运行各个以 `test_` 打头的方法。这样，编写的每个测试方法都可使用在方法 `setUp()` 中创建的对象了。"
   ]
  },
  {
   "cell_type": "code",
   "execution_count": null,
   "metadata": {
    "deletable": false,
    "editable": false,
    "run_control": {
     "frozen": true
    }
   },
   "outputs": [],
   "source": [
    "\"\"\"Test class AnonymousSurvey\"\"\"\n",
    "\n",
    "import unittest\n",
    "\n",
    "from survey import AnonymousSurvey\n",
    "\n",
    "\n",
    "class TestAnonymousSurvey(unittest.TestCase):\n",
    "    \"\"\"针对 AnonymousSurvey \"\"\"\n",
    "\n",
    "    def setUp(self):\n",
    "        \"\"\"创建一个调查对象和一组答案，供使用的测试方法使用\"\"\"\n",
    "        question = \"What language did you first learn to speak?\"\n",
    "        self.my_survey = AnonymousSurvey(question)\n",
    "        self.responses = [\"English\", \"Spanish\", \"Mandarin\"]\n",
    "\n",
    "    def test_store_single_response(self):\n",
    "        \"\"\"测试单个答案会被妥善地存储\"\"\"\n",
    "        self.my_survey.store_response(self.responses[0])\n",
    "        self.assertIn(self.responses[0], self.my_survey.responses)\n",
    "\n",
    "    def test_store_three_response(self):\n",
    "        \"\"\"测试三个答案会被妥善地存储\"\"\"\n",
    "        for response in self.responses:\n",
    "            self.my_survey.store_response(response)\n",
    "\n",
    "        for response in self.responses:\n",
    "            self.assertIn(response, self.my_survey.responses)\n",
    "\n",
    "\n",
    "if __name__ == \"__main__\":\n",
    "    unittest.main()"
   ]
  },
  {
   "cell_type": "markdown",
   "metadata": {},
   "source": [
    "- 句点：测试用过；  \n",
    "- E：测试引发错误；\n",
    "- F：测试导致断言失败。"
   ]
  }
 ],
 "metadata": {
  "kernelspec": {
   "display_name": "Python 3",
   "language": "python",
   "name": "python3"
  },
  "language_info": {
   "codemirror_mode": {
    "name": "ipython",
    "version": 3
   },
   "file_extension": ".py",
   "mimetype": "text/x-python",
   "name": "python",
   "nbconvert_exporter": "python",
   "pygments_lexer": "ipython3",
   "version": "3.8.3"
  },
  "toc": {
   "base_numbering": 1,
   "nav_menu": {},
   "number_sections": false,
   "sideBar": true,
   "skip_h1_title": false,
   "title_cell": "Table of Contents",
   "title_sidebar": "Contents",
   "toc_cell": false,
   "toc_position": {
    "height": "calc(100% - 180px)",
    "left": "10px",
    "top": "150px",
    "width": "231.6px"
   },
   "toc_section_display": true,
   "toc_window_display": true
  },
  "varInspector": {
   "cols": {
    "lenName": 16,
    "lenType": 16,
    "lenVar": 40
   },
   "kernels_config": {
    "python": {
     "delete_cmd_postfix": "",
     "delete_cmd_prefix": "del ",
     "library": "var_list.py",
     "varRefreshCmd": "print(var_dic_list())"
    },
    "r": {
     "delete_cmd_postfix": ") ",
     "delete_cmd_prefix": "rm(",
     "library": "var_list.r",
     "varRefreshCmd": "cat(var_dic_list()) "
    }
   },
   "types_to_exclude": [
    "module",
    "function",
    "builtin_function_or_method",
    "instance",
    "_Feature"
   ],
   "window_display": false
  }
 },
 "nbformat": 4,
 "nbformat_minor": 4
}
