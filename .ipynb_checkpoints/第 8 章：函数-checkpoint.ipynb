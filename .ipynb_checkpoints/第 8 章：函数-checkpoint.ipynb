{
 "cells": [
  {
   "cell_type": "markdown",
   "metadata": {},
   "source": [
    "# 第 8 章：函数"
   ]
  },
  {
   "cell_type": "markdown",
   "metadata": {},
   "source": [
    "函数是带名字的代码块，用于完成具体的工作。"
   ]
  },
  {
   "cell_type": "markdown",
   "metadata": {},
   "source": [
    "## 8.1 定义函数"
   ]
  },
  {
   "cell_type": "markdown",
   "metadata": {},
   "source": [
    "文档字符串（docstring）的注释，描述函数是做什么。文档字符串用三引号括起，Python 使用它们来生成有关程序中函数的文档。"
   ]
  },
  {
   "cell_type": "code",
   "execution_count": 1,
   "metadata": {
    "ExecuteTime": {
     "end_time": "2020-07-03T02:40:50.527930Z",
     "start_time": "2020-07-03T02:40:50.522942Z"
    }
   },
   "outputs": [],
   "source": [
    "def greet_user():\n",
    "    \"\"\"显示简单的问候语\"\"\"\n",
    "    print('Hello!')"
   ]
  },
  {
   "cell_type": "code",
   "execution_count": 2,
   "metadata": {
    "ExecuteTime": {
     "end_time": "2020-07-03T02:40:50.549361Z",
     "start_time": "2020-07-03T02:40:50.530918Z"
    }
   },
   "outputs": [],
   "source": [
    "greet_user()"
   ]
  },
  {
   "cell_type": "markdown",
   "metadata": {},
   "source": [
    "### 8.1.1 向函数传递信息"
   ]
  },
  {
   "cell_type": "code",
   "execution_count": 3,
   "metadata": {
    "ExecuteTime": {
     "end_time": "2020-07-03T02:40:50.561497Z",
     "start_time": "2020-07-03T02:40:50.551343Z"
    }
   },
   "outputs": [],
   "source": [
    "def greet_user(username):\n",
    "    \"\"\"显示简单的问候语\"\"\"\n",
    "    print('Hello, ' + username.title() + '!')"
   ]
  },
  {
   "cell_type": "code",
   "execution_count": 4,
   "metadata": {
    "ExecuteTime": {
     "end_time": "2020-07-03T02:40:50.573568Z",
     "start_time": "2020-07-03T02:40:50.564490Z"
    }
   },
   "outputs": [
    {
     "name": "stdout",
     "output_type": "stream",
     "text": [
      "Hello, Jeff!\n"
     ]
    }
   ],
   "source": [
    "greet_user('jeff')"
   ]
  },
  {
   "cell_type": "markdown",
   "metadata": {},
   "source": [
    "### 8.1.2 实参和形参"
   ]
  },
  {
   "cell_type": "markdown",
   "metadata": {},
   "source": [
    "- 形参：`username`  \n",
    "函数完成其工作所需的一向信息。\n",
    "\n",
    "- 实参：`'jeff'`  \n",
    "调用函数时，传递给函数的信息。\n",
    "\n",
    "大家有时候会将形参、实参不分。"
   ]
  },
  {
   "cell_type": "markdown",
   "metadata": {},
   "source": [
    "## 8.2 传递实参"
   ]
  },
  {
   "cell_type": "markdown",
   "metadata": {},
   "source": [
    "函数定义中可能包含多个形参，因此函数调用中可能包含多个实参。\n",
    "\n",
    "传递实参的方式：位置实参、关键字实参、列表和字典。"
   ]
  },
  {
   "cell_type": "markdown",
   "metadata": {},
   "source": [
    "### 8.2.1 位置实参"
   ]
  },
  {
   "cell_type": "markdown",
   "metadata": {},
   "source": [
    "要求实参的顺序与形参的顺序相同。"
   ]
  },
  {
   "cell_type": "code",
   "execution_count": 5,
   "metadata": {
    "ExecuteTime": {
     "end_time": "2020-07-03T02:40:50.725467Z",
     "start_time": "2020-07-03T02:40:50.720482Z"
    }
   },
   "outputs": [],
   "source": [
    "def describe_pet(animal_type, pet_name):\n",
    "    \"\"\"显示宠物的信息\"\"\"\n",
    "    print('\\nI have a ' + animal_type + '.')\n",
    "    print('My ' + animal_type + \"'s name is \" + pet_name.title() + '.')"
   ]
  },
  {
   "cell_type": "code",
   "execution_count": 6,
   "metadata": {
    "ExecuteTime": {
     "end_time": "2020-07-03T02:40:50.745413Z",
     "start_time": "2020-07-03T02:40:50.727463Z"
    }
   },
   "outputs": [
    {
     "name": "stdout",
     "output_type": "stream",
     "text": [
      "\n",
      "I have a dog.\n",
      "My dog's name is Poppy.\n"
     ]
    }
   ],
   "source": [
    "describe_pet('dog', 'poppy')"
   ]
  },
  {
   "cell_type": "markdown",
   "metadata": {},
   "source": [
    "- 调用函数多次"
   ]
  },
  {
   "cell_type": "markdown",
   "metadata": {},
   "source": [
    "- 位置实参的顺序很重要"
   ]
  },
  {
   "cell_type": "markdown",
   "metadata": {},
   "source": [
    "### 8.2.2 关键字实参"
   ]
  },
  {
   "cell_type": "markdown",
   "metadata": {},
   "source": [
    "关键字实参是传递给函数的名称-值对，每个实参都由变量名和值组成。关键字实参让你无需考虑函数调用中的实参顺序，还清楚的指明了函数调用中各个值的用途。"
   ]
  },
  {
   "cell_type": "code",
   "execution_count": 7,
   "metadata": {
    "ExecuteTime": {
     "end_time": "2020-07-03T02:40:50.876091Z",
     "start_time": "2020-07-03T02:40:50.872101Z"
    }
   },
   "outputs": [],
   "source": [
    "def describe_pet(animal_type, pet_name):\n",
    "    \"\"\"显示宠物的信息\"\"\"\n",
    "    print('\\nI have a ' + animal_type + '.')\n",
    "    print('My ' + animal_type + \"'s name is \" + pet_name.title() + '.')"
   ]
  },
  {
   "cell_type": "code",
   "execution_count": 8,
   "metadata": {
    "ExecuteTime": {
     "end_time": "2020-07-03T02:40:50.895997Z",
     "start_time": "2020-07-03T02:40:50.879083Z"
    }
   },
   "outputs": [
    {
     "name": "stdout",
     "output_type": "stream",
     "text": [
      "\n",
      "I have a cat.\n",
      "My cat's name is Cherry.\n"
     ]
    }
   ],
   "source": [
    "describe_pet(pet_name='cherry', animal_type='cat')"
   ]
  },
  {
   "cell_type": "markdown",
   "metadata": {},
   "source": [
    "### 8.2.3 默认值"
   ]
  },
  {
   "cell_type": "markdown",
   "metadata": {},
   "source": [
    "使用默认值可简化函数调用，还可清楚地指出函数的典型用法。"
   ]
  },
  {
   "cell_type": "code",
   "execution_count": 9,
   "metadata": {
    "ExecuteTime": {
     "end_time": "2020-07-03T02:40:50.985993Z",
     "start_time": "2020-07-03T02:40:50.979928Z"
    }
   },
   "outputs": [],
   "source": [
    "def describe_pet(pet_name, animal_type='dog'):\n",
    "    \"\"\"显示宠物的信息\"\"\"\n",
    "    print('\\nI have a ' + animal_type + '.')\n",
    "    print('My ' + animal_type + \"'s name is \" + pet_name.title() + '.')"
   ]
  },
  {
   "cell_type": "markdown",
   "metadata": {},
   "source": [
    "定义形参时，修改了形参的顺序。"
   ]
  },
  {
   "cell_type": "code",
   "execution_count": 10,
   "metadata": {
    "ExecuteTime": {
     "end_time": "2020-07-03T02:40:51.039061Z",
     "start_time": "2020-07-03T02:40:51.035071Z"
    }
   },
   "outputs": [
    {
     "name": "stdout",
     "output_type": "stream",
     "text": [
      "\n",
      "I have a dog.\n",
      "My dog's name is Willie.\n"
     ]
    }
   ],
   "source": [
    "describe_pet('willie')"
   ]
  },
  {
   "cell_type": "markdown",
   "metadata": {},
   "source": [
    "Python 依然将这个实参视为位置实参。  \n",
    "\n",
    "使用默认值时，在形参列表中必须先列出没有默认值的形参，再列出有默认值的形参。"
   ]
  },
  {
   "cell_type": "markdown",
   "metadata": {
    "ExecuteTime": {
     "end_time": "2020-07-02T08:00:16.202577Z",
     "start_time": "2020-07-02T08:00:16.197591Z"
    }
   },
   "source": [
    "### 8.2.4 等效的函数调用"
   ]
  },
  {
   "cell_type": "markdown",
   "metadata": {},
   "source": [
    "使用哪种调用方式无关紧要，只要函数调用能生成你希望的输出就行。使用对你来说最容易理解的调用方式即可。"
   ]
  },
  {
   "cell_type": "markdown",
   "metadata": {},
   "source": [
    "### 8.2.5 避免实参错误"
   ]
  },
  {
   "cell_type": "markdown",
   "metadata": {},
   "source": [
    "## 8.3 返回值"
   ]
  },
  {
   "cell_type": "markdown",
   "metadata": {},
   "source": [
    "### 8.3.1 返回简单值"
   ]
  },
  {
   "cell_type": "markdown",
   "metadata": {},
   "source": [
    "### 8.3.2 让实参变成可选的"
   ]
  },
  {
   "cell_type": "markdown",
   "metadata": {},
   "source": [
    "### 8.2.3 返回字典"
   ]
  },
  {
   "cell_type": "markdown",
   "metadata": {},
   "source": [
    "### 8.2.4 结合使用函数和 while 循环"
   ]
  },
  {
   "cell_type": "markdown",
   "metadata": {},
   "source": [
    "## 8.4 传递列表"
   ]
  },
  {
   "cell_type": "markdown",
   "metadata": {},
   "source": [
    "### 8.4.1 在函数中修改列表"
   ]
  },
  {
   "cell_type": "markdown",
   "metadata": {},
   "source": [
    " 在函数中对这个列表所做的任何修改都是永久性的。\n",
    " \n",
    " 每个函数都只应负责一项具体的工作。编写函数时，如果你发现它执行的任务太多，请尝试将这些代码划分到两个函数中。"
   ]
  },
  {
   "cell_type": "markdown",
   "metadata": {},
   "source": [
    "### 8.4.2 禁止函数修改列表"
   ]
  },
  {
   "cell_type": "markdown",
   "metadata": {
    "ExecuteTime": {
     "end_time": "2020-07-02T09:16:06.643066Z",
     "start_time": "2020-07-02T09:16:06.638079Z"
    }
   },
   "source": [
    "可向函数传递列表的副本而不是原件，这样函数所作的任何修改都只影响副本，而丝毫不影响原件。\n",
    "\n",
    "`function_name(list_name[:])` 切片表示法创建列表副本。\n",
    "\n",
    "虽然向函数传递列表的副本可保留原始列表的内容，但除非有充分的理由需要传递副本，否则还是应该将原始列表传递给函数，因为让函数使用现成列表可避免花时间和内存创建副本，从而提高效率，在处理大型列表时尤其如此。"
   ]
  },
  {
   "cell_type": "markdown",
   "metadata": {},
   "source": [
    "## 8.5 传递任意数量的实参"
   ]
  },
  {
   "cell_type": "markdown",
   "metadata": {},
   "source": [
    "有时候，你预先不知道函数需要接受多少个实参，好在 Python 允许函数从调用语句中收集任意数量的实参。  "
   ]
  },
  {
   "cell_type": "code",
   "execution_count": 11,
   "metadata": {
    "ExecuteTime": {
     "end_time": "2020-07-03T02:40:51.654603Z",
     "start_time": "2020-07-03T02:40:51.650554Z"
    }
   },
   "outputs": [],
   "source": [
    "def make_pizza(*toppings):\n",
    "    print(toppings)\n",
    "    print(type(toppings))  # tupple"
   ]
  },
  {
   "cell_type": "code",
   "execution_count": 12,
   "metadata": {
    "ExecuteTime": {
     "end_time": "2020-07-03T02:40:51.673024Z",
     "start_time": "2020-07-03T02:40:51.657563Z"
    }
   },
   "outputs": [
    {
     "name": "stdout",
     "output_type": "stream",
     "text": [
      "('pepperoni',)\n",
      "<class 'tuple'>\n"
     ]
    }
   ],
   "source": [
    "make_pizza('pepperoni')"
   ]
  },
  {
   "cell_type": "code",
   "execution_count": 13,
   "metadata": {
    "ExecuteTime": {
     "end_time": "2020-07-03T02:40:51.684816Z",
     "start_time": "2020-07-03T02:40:51.675014Z"
    }
   },
   "outputs": [
    {
     "name": "stdout",
     "output_type": "stream",
     "text": [
      "('mushroom', 'green peppers', 'extra cheese')\n",
      "<class 'tuple'>\n"
     ]
    }
   ],
   "source": [
    "make_pizza('mushroom', 'green peppers', 'extra cheese')"
   ]
  },
  {
   "cell_type": "markdown",
   "metadata": {},
   "source": [
    "星号让 Python 建立一个名为 toppings 的空元组，并将收到的所有值都封装到这个元组中。Python 将实参封装到一个元组中，即便函数只收到一个值也如此。"
   ]
  },
  {
   "cell_type": "markdown",
   "metadata": {},
   "source": [
    "### 8.5.1 结合使用位置实参和任意数量实参"
   ]
  },
  {
   "cell_type": "markdown",
   "metadata": {},
   "source": [
    "如果要让哈傻女胡接受不同类型的实参，必须在函数定义中将接纳任意数量实参的形参放在最后。  \n",
    "Python 先匹配位置实参和关键字实参，再将余下的实参都必须收集到最后一个形参中。"
   ]
  },
  {
   "cell_type": "code",
   "execution_count": 14,
   "metadata": {
    "ExecuteTime": {
     "end_time": "2020-07-03T02:40:51.790384Z",
     "start_time": "2020-07-03T02:40:51.785403Z"
    }
   },
   "outputs": [],
   "source": [
    "def make_pizza(size, *toppings):\n",
    "    print('\\nMaking a ' + str(size) +\n",
    "          '-inch pizza with the following toppings:')\n",
    "    for topping in toppings:\n",
    "        print('- ' + topping)"
   ]
  },
  {
   "cell_type": "markdown",
   "metadata": {},
   "source": [
    "Python 将收到的第一个值存储在形参 size 中，并将其他的所有值都存储在元组 toppings 中。"
   ]
  },
  {
   "cell_type": "code",
   "execution_count": 15,
   "metadata": {
    "ExecuteTime": {
     "end_time": "2020-07-03T02:40:51.837606Z",
     "start_time": "2020-07-03T02:40:51.831574Z"
    }
   },
   "outputs": [
    {
     "name": "stdout",
     "output_type": "stream",
     "text": [
      "\n",
      "Making a 12-inch pizza with the following toppings:\n",
      "- mushroom\n",
      "- green peppers\n",
      "- extra cheese\n"
     ]
    }
   ],
   "source": [
    "make_pizza(12, 'mushroom', 'green peppers', 'extra cheese')"
   ]
  },
  {
   "cell_type": "markdown",
   "metadata": {
    "ExecuteTime": {
     "end_time": "2020-07-02T09:44:32.973667Z",
     "start_time": "2020-07-02T09:44:32.968675Z"
    }
   },
   "source": [
    "### 8.5.2 使用任意数量的关键字实参"
   ]
  },
  {
   "cell_type": "markdown",
   "metadata": {},
   "source": [
    "有时候，需还要函数接受任意数量的实参，但与先不知道传递给函数的会是什么样的信息。在这种情况下，可将函数编写成能够接受任意数量的键-值对——调用语句提供了多少就接受多少。"
   ]
  },
  {
   "cell_type": "code",
   "execution_count": 16,
   "metadata": {
    "ExecuteTime": {
     "end_time": "2020-07-03T02:40:51.956649Z",
     "start_time": "2020-07-03T02:40:51.952652Z"
    }
   },
   "outputs": [],
   "source": [
    "def build_profile(first, last, **user_info):\n",
    "    print(type(user_info))\n",
    "    print(user_info)\n",
    "    profile = {}\n",
    "    profile['first_name'] = first\n",
    "    profile['last_name'] = last\n",
    "    for k, v in user_info.items():\n",
    "        profile[k] = v\n",
    "    return profile"
   ]
  },
  {
   "cell_type": "code",
   "execution_count": 17,
   "metadata": {
    "ExecuteTime": {
     "end_time": "2020-07-03T02:40:51.975745Z",
     "start_time": "2020-07-03T02:40:51.958636Z"
    }
   },
   "outputs": [
    {
     "name": "stdout",
     "output_type": "stream",
     "text": [
      "<class 'dict'>\n",
      "{'location': 'princeton', 'field': 'physics'}\n",
      "{'first_name': 'albert', 'last_name': 'einstein', 'location': 'princeton', 'field': 'physics'}\n"
     ]
    }
   ],
   "source": [
    "user_profile = build_profile('albert', 'einstein',\n",
    "                             location='princeton',\n",
    "                             field='physics')  # 关键字实参\n",
    "\n",
    "print(user_profile)"
   ]
  },
  {
   "cell_type": "markdown",
   "metadata": {},
   "source": [
    "### 8.6 将函数存储在模块中"
   ]
  },
  {
   "cell_type": "markdown",
   "metadata": {},
   "source": [
    "函数使代码块与主程序分离。通过给函数指定描述性名称，可让主程序容易理解得多。  \n",
    "\n",
    "将函数存储在被称为模块的独立文件中，再将模块导入到主程序中。import 语句允许在当前运行的程序文件中使用模块中的代码。  \n",
    "\n",
    "通过将函数存储在独立的文件中，可隐藏程序代码的细节，将重点放在程序的高层逻辑上。还能让你在众多不同的程序中重用函数。将函数存储在独立的文件中后，可与其他程序员共享这些文件而不是整个程序。知道如何导入函数还能让你使用其他程序员编写的函数库。"
   ]
  },
  {
   "cell_type": "markdown",
   "metadata": {},
   "source": [
    "### 8.6.1 导入整个模块"
   ]
  },
  {
   "cell_type": "markdown",
   "metadata": {},
   "source": [
    "要让函数是可导入的，得先创建模块。模块是扩展名为 .py 的文件，包含要导入到程序中的代码。\n",
    "\n",
    "创建 pizza.py 文件，包含函数如下："
   ]
  },
  {
   "cell_type": "code",
   "execution_count": null,
   "metadata": {
    "deletable": false,
    "editable": false,
    "run_control": {
     "frozen": true
    }
   },
   "outputs": [],
   "source": [
    "def make_pizza(size, *toppings):\n",
    "    \"\"\"概述要制作的比萨\"\"\"\n",
    "    print(\"\\nMaking a \" + str(size) +\n",
    "          \"-inch pizza with the following toppings: \")\n",
    "    for topping in toppings:\n",
    "        print(\"- \" + topping)"
   ]
  },
  {
   "cell_type": "markdown",
   "metadata": {},
   "source": [
    "在 pizza.py 所在的目录创建另一个名为 making_pizza.py 的文件，这个文件导入到刚创建的模块，再调用 make_pizza() 两次："
   ]
  },
  {
   "cell_type": "code",
   "execution_count": null,
   "metadata": {
    "deletable": false,
    "editable": false,
    "run_control": {
     "frozen": true
    }
   },
   "outputs": [],
   "source": [
    "import pizza\n",
    "\n",
    "pizza.make_pizza(16, 'pepperoni')\n",
    "pizza.make_pizza(12, 'mushrooms', 'green pepers', 'extra cheese')"
   ]
  },
  {
   "cell_type": "markdown",
   "metadata": {},
   "source": [
    "代码行 import pizza 让 Python 打开文件 pizza.py，并将其中的所有函数都复制到这个程序中。"
   ]
  },
  {
   "cell_type": "markdown",
   "metadata": {},
   "source": [
    "总结：只需编写一条 import 语句并在其中指定模块名，就可在程序中使用该模块中的所有函数。如果你使用这种 import 语句导入了名为 module_name.py 的整个文件，就可使用下面的语法来使用其中任何一个函数："
   ]
  },
  {
   "cell_type": "code",
   "execution_count": null,
   "metadata": {
    "deletable": false,
    "editable": false,
    "run_control": {
     "frozen": true
    }
   },
   "outputs": [],
   "source": [
    "module_name.function_name()"
   ]
  },
  {
   "cell_type": "markdown",
   "metadata": {},
   "source": [
    "### 8.6.2 导入特定的函数"
   ]
  },
  {
   "cell_type": "code",
   "execution_count": null,
   "metadata": {
    "deletable": false,
    "editable": false,
    "run_control": {
     "frozen": true
    }
   },
   "outputs": [],
   "source": [
    "from model_name import function_name\n",
    "\n",
    "from model_name import function_0, function_1, function_2"
   ]
  },
  {
   "cell_type": "markdown",
   "metadata": {},
   "source": [
    "通过使用逗号分隔函数名，可根据需要从魔窟地中导入任意数量的函数。"
   ]
  },
  {
   "cell_type": "code",
   "execution_count": null,
   "metadata": {
    "deletable": false,
    "editable": false,
    "run_control": {
     "frozen": true
    }
   },
   "outputs": [],
   "source": [
    "from pizza import making_pizza\n",
    "\n",
    "make_pizza(16, 'pepperoni')\n",
    "make_pizza(12, 'mushrooms', 'green pepers', 'extra cheese')"
   ]
  },
  {
   "cell_type": "markdown",
   "metadata": {},
   "source": [
    "已经显式地导入了函数 make_pizza()，因此调用它时只需指定其名称。"
   ]
  },
  {
   "cell_type": "markdown",
   "metadata": {},
   "source": [
    "### 8.6.3 使用 as 给函数指定别名"
   ]
  },
  {
   "cell_type": "markdown",
   "metadata": {},
   "source": [
    "如果要导入的函数的名称可能与程序中现有的名称冲突，或者函数的名称太长，可指定简短而独一无二的别名——函数的另一个名称，类似于外号。"
   ]
  },
  {
   "cell_type": "code",
   "execution_count": null,
   "metadata": {
    "deletable": false,
    "editable": false,
    "run_control": {
     "frozen": true
    }
   },
   "outputs": [],
   "source": [
    "from pizza import make_pizza as mp\n",
    "\n",
    "mp(16, 'pepperoni')\n",
    "mp(12, 'mushrooms', 'green pepers', 'extra cheese')"
   ]
  },
  {
   "cell_type": "markdown",
   "metadata": {},
   "source": [
    "通用语法："
   ]
  },
  {
   "cell_type": "code",
   "execution_count": null,
   "metadata": {
    "deletable": false,
    "editable": false,
    "run_control": {
     "frozen": true
    }
   },
   "outputs": [],
   "source": [
    "from module_name import function_name as fn"
   ]
  },
  {
   "cell_type": "markdown",
   "metadata": {},
   "source": [
    "### 8.6.4 使用 as 给模块指定别名"
   ]
  },
  {
   "cell_type": "markdown",
   "metadata": {},
   "source": [
    "你还可以给模块指定别名。通过给模块指定简短的别名，让你能够更轻松地调用模块中的函数。让你不再关注模块名，而专注于描述性的函数名。"
   ]
  },
  {
   "cell_type": "code",
   "execution_count": null,
   "metadata": {
    "deletable": false,
    "editable": false,
    "run_control": {
     "frozen": true
    }
   },
   "outputs": [],
   "source": [
    "import pizza as p\n",
    "\n",
    "p.make_pizza(16, 'pepperoni')\n",
    "p.make_pizza(12, 'mushrooms', 'green pepers', 'extra cheese')"
   ]
  },
  {
   "cell_type": "markdown",
   "metadata": {},
   "source": [
    "通用语法："
   ]
  },
  {
   "cell_type": "code",
   "execution_count": null,
   "metadata": {
    "deletable": false,
    "editable": false,
    "run_control": {
     "frozen": true
    }
   },
   "outputs": [],
   "source": [
    "import module_name as mn"
   ]
  },
  {
   "cell_type": "markdown",
   "metadata": {},
   "source": [
    "### 8.6.5 导入模块中的所有函数"
   ]
  },
  {
   "cell_type": "markdown",
   "metadata": {},
   "source": [
    "使用星号（\\*）可让 Python 导入模块中的所有函数："
   ]
  },
  {
   "cell_type": "code",
   "execution_count": null,
   "metadata": {
    "deletable": false,
    "editable": false,
    "run_control": {
     "frozen": true
    }
   },
   "outputs": [],
   "source": [
    "from piza import *\n",
    "\n",
    "make_pizza(16, 'pepperoni')\n",
    "make_pizza(12, 'mushrooms', 'green pepers', 'extra cheese')"
   ]
  },
  {
   "cell_type": "markdown",
   "metadata": {},
   "source": [
    "星号让 Python 将模块 pizza 所有中的每个函数都复制到这个程序中。由于导入了每个函数，可通过名称来调用每个函数，而无需使用句点表示法。  \n",
    "然而，使用并非自己编写的大型模块时，最好不要采用这种导入方法。Python 可能遇到多个名称相同的函数或变量吗，进而覆盖函数。  \n",
    "最佳的做法是，要么只导入你需要使用的函数，要么导入整个模块并使用句点表示法。"
   ]
  },
  {
   "cell_type": "markdown",
   "metadata": {},
   "source": [
    "## 8.7 函数编写指南"
   ]
  },
  {
   "cell_type": "markdown",
   "metadata": {},
   "source": [
    "应给函数指定描述性名称，且旨在其中使用小写字母和下划线。  \n",
    "每个函数都应包含简要地阐述其功能的注释，该注释应紧跟在函数定义后面，并采用文档字符串格式。程序员只要知道函数的名称、需要的实参以及返回值的类型，就能在自己的函数中使用它。  \n",
    "\n",
    "给形参指定默认值时，等号两边不要有空格："
   ]
  },
  {
   "cell_type": "code",
   "execution_count": null,
   "metadata": {
    "deletable": false,
    "editable": false,
    "run_control": {
     "frozen": true
    }
   },
   "outputs": [],
   "source": [
    "def function_name(parameter_0, parameter_1='default value'):"
   ]
  },
  {
   "cell_type": "markdown",
   "metadata": {},
   "source": [
    "对于函数调用中的关键字实参，也应遵循这种约定："
   ]
  },
  {
   "cell_type": "code",
   "execution_count": null,
   "metadata": {
    "deletable": false,
    "editable": false,
    "run_control": {
     "frozen": true
    }
   },
   "outputs": [],
   "source": [
    "function_name(value_0, parameter_1='value')"
   ]
  },
  {
   "cell_type": "markdown",
   "metadata": {},
   "source": [
    "PEP 8 建议代码行的长度不要超过 79 字符。如果形参汗多，可在函数定义中输入左括号后按回车键，并缩进一行。  \n",
    "如果程序或模块包含多个函数，可使用两个空行将相邻的函数分开。  \n",
    "所有的 import 语句都应该放在文件开头，除非在文件开头使用了注释来描述整个程序。"
   ]
  }
 ],
 "metadata": {
  "kernelspec": {
   "display_name": "Python 3",
   "language": "python",
   "name": "python3"
  },
  "language_info": {
   "codemirror_mode": {
    "name": "ipython",
    "version": 3
   },
   "file_extension": ".py",
   "mimetype": "text/x-python",
   "name": "python",
   "nbconvert_exporter": "python",
   "pygments_lexer": "ipython3",
   "version": "3.7.7"
  },
  "toc": {
   "base_numbering": 1,
   "nav_menu": {},
   "number_sections": false,
   "sideBar": true,
   "skip_h1_title": false,
   "title_cell": "Table of Contents",
   "title_sidebar": "Contents",
   "toc_cell": false,
   "toc_position": {
    "height": "calc(100% - 180px)",
    "left": "10px",
    "top": "150px",
    "width": "245.6px"
   },
   "toc_section_display": true,
   "toc_window_display": true
  },
  "varInspector": {
   "cols": {
    "lenName": 16,
    "lenType": 16,
    "lenVar": 40
   },
   "kernels_config": {
    "python": {
     "delete_cmd_postfix": "",
     "delete_cmd_prefix": "del ",
     "library": "var_list.py",
     "varRefreshCmd": "print(var_dic_list())"
    },
    "r": {
     "delete_cmd_postfix": ") ",
     "delete_cmd_prefix": "rm(",
     "library": "var_list.r",
     "varRefreshCmd": "cat(var_dic_list()) "
    }
   },
   "types_to_exclude": [
    "module",
    "function",
    "builtin_function_or_method",
    "instance",
    "_Feature"
   ],
   "window_display": false
  }
 },
 "nbformat": 4,
 "nbformat_minor": 4
}
